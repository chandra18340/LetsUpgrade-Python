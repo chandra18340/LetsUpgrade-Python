{
  "nbformat": 4,
  "nbformat_minor": 0,
  "metadata": {
    "colab": {
      "name": "day3",
      "provenance": [],
      "collapsed_sections": []
    },
    "kernelspec": {
      "name": "python3",
      "display_name": "Python 3"
    },
    "language_info": {
      "name": "python"
    }
  },
  "cells": [
    {
      "cell_type": "code",
      "execution_count": null,
      "metadata": {
        "colab": {
          "base_uri": "https://localhost:8080/"
        },
        "id": "h02UZyJXRAha",
        "outputId": "9b828fe0-c183-42b1-f546-a986f80762a5"
      },
      "outputs": [
        {
          "output_type": "stream",
          "name": "stdout",
          "text": [
            "<class 'int'>\n"
          ]
        }
      ],
      "source": [
        "#01. Find the data type of a if a=9\n",
        "\n",
        "a = 9\n",
        "print(type(a))"
      ]
    },
    {
      "cell_type": "code",
      "source": [
        "#02. Find the data type of a if a=9\n",
        "\n",
        "a = 9\n",
        "print(type(a))"
      ],
      "metadata": {
        "colab": {
          "base_uri": "https://localhost:8080/"
        },
        "id": "gKszskkLRVTC",
        "outputId": "67ce9951-160e-4821-a326-bbe072c27f53"
      },
      "execution_count": null,
      "outputs": [
        {
          "output_type": "stream",
          "name": "stdout",
          "text": [
            "<class 'int'>\n"
          ]
        }
      ]
    },
    {
      "cell_type": "code",
      "source": [
        "#03.Find the data type of a if a='9.'\n",
        "\n",
        "a = \"9.\"\n",
        "print(type(a))"
      ],
      "metadata": {
        "colab": {
          "base_uri": "https://localhost:8080/"
        },
        "id": "h8O0oplCRnjz",
        "outputId": "0cd3821f-30d4-49c6-b59b-b90766145d7a"
      },
      "execution_count": null,
      "outputs": [
        {
          "output_type": "stream",
          "name": "stdout",
          "text": [
            "<class 'str'>\n"
          ]
        }
      ]
    },
    {
      "cell_type": "code",
      "source": [
        "#04. Find the data type of a if a=(9)\n",
        "\n",
        "a = (9)\n",
        "print(type(a))"
      ],
      "metadata": {
        "colab": {
          "base_uri": "https://localhost:8080/"
        },
        "id": "DmCpAYVBRz4i",
        "outputId": "54f2be5b-1858-4ef9-e597-a185eb4011a8"
      },
      "execution_count": null,
      "outputs": [
        {
          "output_type": "stream",
          "name": "stdout",
          "text": [
            "<class 'int'>\n"
          ]
        }
      ]
    },
    {
      "cell_type": "code",
      "source": [
        "#05. Find the data type of a if a=False\n",
        " \n",
        "a = False\n",
        "print(type(a))"
      ],
      "metadata": {
        "colab": {
          "base_uri": "https://localhost:8080/"
        },
        "id": "8xDiLhFiSS8P",
        "outputId": "1e487f72-dd70-4733-fcf0-92844f45b05d"
      },
      "execution_count": null,
      "outputs": [
        {
          "output_type": "stream",
          "name": "stdout",
          "text": [
            "<class 'bool'>\n"
          ]
        }
      ]
    },
    {
      "cell_type": "code",
      "source": [
        "#06. Find the data type of a if a=[1,2,3]\n",
        "\n",
        "a = [1,2,3]\n",
        "print(type(a))"
      ],
      "metadata": {
        "colab": {
          "base_uri": "https://localhost:8080/"
        },
        "id": "4xcek7ukSjvk",
        "outputId": "b661d62b-88ae-4a4f-ce1a-bfc0b3845735"
      },
      "execution_count": null,
      "outputs": [
        {
          "output_type": "stream",
          "name": "stdout",
          "text": [
            "<class 'list'>\n"
          ]
        }
      ]
    },
    {
      "cell_type": "code",
      "source": [
        "#07. Find the data type of a if a=(1,2,3)\n",
        "\n",
        "a = (1,2,3)\n",
        "print(type(a))"
      ],
      "metadata": {
        "colab": {
          "base_uri": "https://localhost:8080/"
        },
        "id": "IDma-rhwS1rd",
        "outputId": "0bc08ce3-3882-472d-8cdc-81a7313fe1ef"
      },
      "execution_count": null,
      "outputs": [
        {
          "output_type": "stream",
          "name": "stdout",
          "text": [
            "<class 'tuple'>\n"
          ]
        }
      ]
    },
    {
      "cell_type": "code",
      "source": [
        "#08.Find the data type of a if a={'key': 9}\n",
        "\n",
        "a = {'key' : 9}\n",
        "print(type(a))"
      ],
      "metadata": {
        "colab": {
          "base_uri": "https://localhost:8080/"
        },
        "id": "q8cp6CdSTAYO",
        "outputId": "3d1a2459-15d1-4174-f901-97660f8fd5dd"
      },
      "execution_count": null,
      "outputs": [
        {
          "output_type": "stream",
          "name": "stdout",
          "text": [
            "<class 'dict'>\n"
          ]
        }
      ]
    },
    {
      "cell_type": "code",
      "source": [
        "#09.Find the data type of a if a=1 + 9j\n",
        "\n",
        "a = 1 + 9j\n",
        "print(type(a))"
      ],
      "metadata": {
        "colab": {
          "base_uri": "https://localhost:8080/"
        },
        "id": "DPKOClmcTUkL",
        "outputId": "19717fce-e79c-4762-c006-c541d7c656e9"
      },
      "execution_count": null,
      "outputs": [
        {
          "output_type": "stream",
          "name": "stdout",
          "text": [
            "<class 'complex'>\n"
          ]
        }
      ]
    },
    {
      "cell_type": "code",
      "source": [
        "#10. Set a=1 and b=2. What data type is a/b?\n",
        "\n",
        "a,b = {1,2}\n",
        "print(type(a/b))"
      ],
      "metadata": {
        "colab": {
          "base_uri": "https://localhost:8080/"
        },
        "id": "DeE1JD8KTsJb",
        "outputId": "10a8ae09-1608-4bd3-faaf-5ae30d553282"
      },
      "execution_count": null,
      "outputs": [
        {
          "output_type": "stream",
          "name": "stdout",
          "text": [
            "<class 'float'>\n"
          ]
        }
      ]
    },
    {
      "cell_type": "code",
      "source": [
        "#11. Create a dictionary numbers = {'one':1, 'two':2, 'three':3}. Pull out the number '2' by calling the key 'two'\n",
        "\n",
        "\n",
        "dic = {'one':1,'two':2,'three':3}\n",
        "print(dic['two'])"
      ],
      "metadata": {
        "colab": {
          "base_uri": "https://localhost:8080/"
        },
        "id": "laEbKnszUPjK",
        "outputId": "ecfe4f59-c49e-43d5-9af4-8bdd77ba9a80"
      },
      "execution_count": null,
      "outputs": [
        {
          "output_type": "stream",
          "name": "stdout",
          "text": [
            "2\n"
          ]
        }
      ]
    },
    {
      "cell_type": "code",
      "source": [
        "#12. Create a tuple with the numbers 8, 9, and 10?\n",
        "\n",
        "tup = (8, 9, 10)\n",
        "print(type(tup))\n"
      ],
      "metadata": {
        "id": "A1DMBvKHmREe",
        "colab": {
          "base_uri": "https://localhost:8080/"
        },
        "outputId": "96a1fdee-c831-4584-a329-5fb5d9f0916d"
      },
      "execution_count": null,
      "outputs": [
        {
          "output_type": "stream",
          "name": "stdout",
          "text": [
            "<class 'tuple'>\n"
          ]
        }
      ]
    },
    {
      "cell_type": "code",
      "source": [
        "'''13. Run the following lines of code and explain the error in your own words. Then rewrite the lines of code to run error free:\n",
        "d = {one:1, two:2, three:3} d[one] ?\n",
        "\n",
        "\n",
        "d = {one:1, two:2, three:3} d[one] '''\n",
        "'''error : The error will be one is not defined.Here we are assuming that one is string so one should be in quotes(\"\") '''\n",
        "\n",
        "\n",
        "d={'one':1, 'two':2, 'three':3}\n",
        "print(d['one'])"
      ],
      "metadata": {
        "colab": {
          "base_uri": "https://localhost:8080/"
        },
        "id": "NwxI1I-0meaT",
        "outputId": "8fec57d1-6734-4900-9542-dfcf360493dc"
      },
      "execution_count": 31,
      "outputs": [
        {
          "output_type": "stream",
          "name": "stdout",
          "text": [
            "1\n"
          ]
        }
      ]
    },
    {
      "cell_type": "code",
      "source": [
        "'''14. Run the following lines of code and explain the error in your own words. Then rewrite the lines of code to run error free:\n",
        "f = false not f ?'''\n",
        "\n",
        "\n",
        "''' error :  The error will be false is not defined. Inorder to consider it as a boolean value we need to use False (not as false)\n",
        "'False' and 'True' belongs to boolean class'''\n",
        "\n",
        "f = False\n",
        "print(not f)"
      ],
      "metadata": {
        "colab": {
          "base_uri": "https://localhost:8080/"
        },
        "id": "lde0bOLbqgxQ",
        "outputId": "d71c529e-7c5f-4e83-8bd0-741f95c9579e"
      },
      "execution_count": 32,
      "outputs": [
        {
          "output_type": "stream",
          "name": "stdout",
          "text": [
            "True\n"
          ]
        }
      ]
    },
    {
      "cell_type": "code",
      "source": [
        "'''15. Run the following lines of code and explain the error in your own words. Then rewrite the lines of code to run error free:\n",
        "lst = [1,3,5] lst[3]'''\n",
        "\n",
        "\n",
        "\n",
        "#error : There are 3 elements in the list.So the index values will be 0,1,2.Here there is no 3rd index  place in given list \n",
        "\n",
        "lst = [1,3,5]\n",
        "print(lst[2])"
      ],
      "metadata": {
        "colab": {
          "base_uri": "https://localhost:8080/"
        },
        "id": "S1lLbGh-r9FK",
        "outputId": "b71c99d6-3a66-4275-ddc1-f60eb53cf75b"
      },
      "execution_count": 33,
      "outputs": [
        {
          "output_type": "stream",
          "name": "stdout",
          "text": [
            "5\n"
          ]
        }
      ]
    }
  ]
}