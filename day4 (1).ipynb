{
  "nbformat": 4,
  "nbformat_minor": 0,
  "metadata": {
    "colab": {
      "name": "day4",
      "provenance": []
    },
    "kernelspec": {
      "name": "python3",
      "display_name": "Python 3"
    },
    "language_info": {
      "name": "python"
    }
  },
  "cells": [
    {
      "cell_type": "code",
      "source": [
        "#01.Python program to print Highest Common Factor (HCF) of two numbers\n",
        "\n",
        "def hcf(x, y):\n",
        "  if y == 0:\n",
        "    return x\n",
        "  return hcf(y, x%y)\n",
        "\n",
        "x = 250\n",
        "y = 450\n",
        "\n",
        "\n",
        "print(\"HCF of\", x, \"and\", y, \"is:\", hcf(x,y))"
      ],
      "metadata": {
        "colab": {
          "base_uri": "https://localhost:8080/"
        },
        "id": "2wRpe8pYHA7m",
        "outputId": "3d296183-140a-49e2-bb5a-1909a3a3adff"
      },
      "execution_count": null,
      "outputs": [
        {
          "output_type": "stream",
          "name": "stdout",
          "text": [
            "HCF of 250 and 450 is: 50\n"
          ]
        }
      ]
    },
    {
      "cell_type": "code",
      "source": [
        "'''Q2. What will be the output of the following Python code?\n",
        "i=0\n",
        "def change(i):\n",
        "  i=i+1\n",
        "  return i\n",
        "change(1)\n",
        "print(i)\n",
        "a) 1\n",
        "b) Nothing is displayed\n",
        "c) 0\n",
        "d) An exception is thrown'''\n",
        "\n",
        "#Ans: option (c)-0"
      ],
      "metadata": {
        "id": "JLGAsAfTHyTH"
      },
      "execution_count": null,
      "outputs": []
    },
    {
      "cell_type": "code",
      "source": [
        "'''3. What will be the output of the following Python code?\n",
        "def a(b):\n",
        "b = b + [5]\n",
        "c = [1, 2, 3, 4]\n",
        "a(c)\n",
        "print(len(c))'''\n",
        "\n",
        "#Ans : 4"
      ],
      "metadata": {
        "id": "NB2G8BVDIRgZ"
      },
      "execution_count": null,
      "outputs": []
    },
    {
      "cell_type": "code",
      "source": [
        "'''4. What will be the output of the following Python code?\n",
        "a=10\n",
        "b=20\n",
        "def change():\n",
        "global b\n",
        "a=45\n",
        "b=56\n",
        "change()\n",
        "print(a)\n",
        "print(b)\n",
        "a)\n",
        "10\n",
        "56\n",
        "b)\n",
        "45\n",
        "56\n",
        "c)\n",
        "10\n",
        "20\n",
        "d) Syntax Error'''\n",
        "\n",
        "#Ans : option a (10 , 56)\n",
        "\n",
        "\n"
      ],
      "metadata": {
        "id": "Pg1gNksXIkca"
      },
      "execution_count": null,
      "outputs": []
    },
    {
      "cell_type": "code",
      "source": [
        "'''05. What will be the output of the following Python code?\n",
        "def change(i = 1, j = 2):\n",
        "i = i + j\n",
        "j = j + 1\n",
        "print(i, j)\n",
        "change(j = 1, i = 2)\n",
        "a) An exception is thrown because of conflicting values\n",
        "b) 1 2\n",
        "c) 3 3\n",
        "d) 3 2\n",
        "'''\n",
        "\n",
        "# Ans : option d (3 2)\n"
      ],
      "metadata": {
        "id": "UwICFuVMJDbI"
      },
      "execution_count": null,
      "outputs": []
    }
  ]
}