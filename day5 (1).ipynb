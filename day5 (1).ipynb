{
  "nbformat": 4,
  "nbformat_minor": 0,
  "metadata": {
    "colab": {
      "name": "day5",
      "provenance": [],
      "collapsed_sections": []
    },
    "kernelspec": {
      "name": "python3",
      "display_name": "Python 3"
    },
    "language_info": {
      "name": "python"
    }
  },
  "cells": [
    {
      "cell_type": "code",
      "execution_count": null,
      "metadata": {
        "id": "K-CEQhHKiYK4"
      },
      "outputs": [],
      "source": [
        "'''For this challenge, create a bank account class that has two attributes:\n",
        "owner\n",
        "balance\n",
        "and two methods:\n",
        "deposit\n",
        "withdraw\n",
        "As an added requirement, withdrawals may not exceed the available balance.\n",
        "Instantiate your class, make several deposits and withdrawals, and test to make sure the account can't be overdrawn.\n",
        "In [ ]:'''\n",
        "class Account:\n",
        "  def __init__(self, owner, balance=0):\n",
        "       self.owner = owner\n",
        "       self.balance = balance\n",
        "  def __str__(self):\n",
        "       return \"Account owner: Pavan \\nAccount balance: 100\"\n",
        "  def deposit(self, dep_amt):\n",
        "       self.balance += dep_amt\n",
        "       print(\"Deposit Accepted\")\n",
        "  def widthraw(self, wd_amt):\n",
        "      try:\n",
        "          if self.balance >= wd_amt:\n",
        "            self.balance -= wd_amt\n",
        "            print(\"Withdrwal accepted\")\n",
        "          else:\n",
        "            print(\"Funds unavailable\")\n",
        "      except ValueError:\n",
        "         print(\"valueerror for fund\")"
      ]
    },
    {
      "cell_type": "code",
      "source": [
        "# 1. Instantiate the class\n",
        "class Account:\n",
        "  def __init__(self, owner, balance=0):\n",
        "       self.owner = owner\n",
        "       self.balance = balance\n",
        "sam = Account(owner = 'pavan')\n",
        "frank=Account(owner=\"chandu\",balance = 100)\n",
        "print(frank.balance)\n",
        "print(sam.owner)\n",
        "\n",
        " "
      ],
      "metadata": {
        "id": "XQvomyNDruVN",
        "colab": {
          "base_uri": "https://localhost:8080/"
        },
        "outputId": "2494bba6-ee4c-46ee-f53c-afe0fab6eb20"
      },
      "execution_count": 2,
      "outputs": [
        {
          "output_type": "stream",
          "name": "stdout",
          "text": [
            "100\n",
            "pavan\n"
          ]
        }
      ]
    },
    {
      "cell_type": "code",
      "source": [
        "# 2. Print the object\n",
        "frank=Account(owner = 'pavan')\n",
        "print(frank)\n"
      ],
      "metadata": {
        "id": "Rn9-24knsYUl",
        "colab": {
          "base_uri": "https://localhost:8080/"
        },
        "outputId": "83283acd-c322-4a19-fe80-be5050092d37"
      },
      "execution_count": null,
      "outputs": [
        {
          "output_type": "stream",
          "name": "stdout",
          "text": [
            "<__main__.Account object at 0x7f39d1988290>\n"
          ]
        }
      ]
    },
    {
      "cell_type": "code",
      "source": [
        "# 3. Show the account owner attribute\n",
        "class Account:\n",
        "  def __init__(self, owner):\n",
        "       self.owner = owner\n",
        "frank=Account(owner = 'pavan')\n",
        "frank.owner\n"
      ],
      "metadata": {
        "id": "SK0AQFlPsbOe",
        "colab": {
          "base_uri": "https://localhost:8080/",
          "height": 35
        },
        "outputId": "3a45afa0-5fda-45b0-9cd6-23e802dce2c9"
      },
      "execution_count": null,
      "outputs": [
        {
          "output_type": "execute_result",
          "data": {
            "application/vnd.google.colaboratory.intrinsic+json": {
              "type": "string"
            },
            "text/plain": [
              "'pavan'"
            ]
          },
          "metadata": {},
          "execution_count": 4
        }
      ]
    },
    {
      "cell_type": "code",
      "source": [
        "# 4. Show the account balance attribute\n",
        "class Account:\n",
        "  def __init__(self,balance=0):\n",
        "       self.balance = balance\n",
        "frank=Account(balance='100')\n",
        "frank.balance()"
      ],
      "metadata": {
        "id": "UyQQQdczsenE",
        "colab": {
          "base_uri": "https://localhost:8080/",
          "height": 35
        },
        "outputId": "cb328fdf-8423-48f0-9ad9-484cc39cbec0"
      },
      "execution_count": null,
      "outputs": [
        {
          "output_type": "execute_result",
          "data": {
            "application/vnd.google.colaboratory.intrinsic+json": {
              "type": "string"
            },
            "text/plain": [
              "'100'"
            ]
          },
          "metadata": {},
          "execution_count": 5
        }
      ]
    },
    {
      "cell_type": "code",
      "source": [
        "#5. Make a series of deposits and withdrawals\n",
        "class Account:\n",
        "  def __init__(self, owner, balance=0):\n",
        "       self.owner = owner\n",
        "       self.balance = balance\n",
        "  def __str__(self):\n",
        "       return \"Account owner: Pavan \\nAccount balance: 100\"\n",
        "  def deposit(self, dep_amt):\n",
        "       self.balance += dep_amt\n",
        "       print(\"Deposit Accepted\")\n",
        "  def widthraw(self, wd_amt):\n",
        "      try:\n",
        "          if self.balance >= wd_amt:\n",
        "            self.balance -= wd_amt\n",
        "            print(\"Withdrwal accepted\")\n",
        "          else:\n",
        "            print(\"Funds unavailable\")\n",
        "      except ValueError:\n",
        "         print(\"valueerror for fund\")\n",
        "frank = Account(owner=\"chandu\",balance = 1000)\n",
        "frank.deposit(dep_amt = 100)\n",
        "frank.widthraw(wd_amt = 50)\n",
        "print(frank.balance)"
      ],
      "metadata": {
        "id": "XTrivnp7shUE",
        "colab": {
          "base_uri": "https://localhost:8080/"
        },
        "outputId": "66e5cf3b-573b-42ea-fe2f-d00b1f3cd249"
      },
      "execution_count": 7,
      "outputs": [
        {
          "output_type": "stream",
          "name": "stdout",
          "text": [
            "Deposit Accepted\n",
            "Withdrwal accepted\n",
            "1050\n"
          ]
        }
      ]
    },
    {
      "cell_type": "code",
      "source": [
        "# 6. Make a withdrawal that exceeds the available balance\n",
        "frank = Account(owner=\"chandu\",balance = 1000)\n",
        "frank.widthraw(wd_amt=1500)"
      ],
      "metadata": {
        "id": "reBTt7zAslKF",
        "colab": {
          "base_uri": "https://localhost:8080/"
        },
        "outputId": "7e63ce77-3957-4662-a5e6-a3e81f2b4e95"
      },
      "execution_count": 8,
      "outputs": [
        {
          "output_type": "stream",
          "name": "stdout",
          "text": [
            "Funds unavailable\n"
          ]
        }
      ]
    }
  ]
}