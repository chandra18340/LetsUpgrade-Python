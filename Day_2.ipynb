{
  "nbformat": 4,
  "nbformat_minor": 0,
  "metadata": {
    "colab": {
      "name": "Day-2",
      "provenance": [],
      "collapsed_sections": []
    },
    "kernelspec": {
      "name": "python3",
      "display_name": "Python 3"
    },
    "language_info": {
      "name": "python"
    }
  },
  "cells": [
    {
      "cell_type": "code",
      "execution_count": null,
      "metadata": {
        "id": "yZYP6R8JaLme"
      },
      "outputs": [],
      "source": [
        "#01.Name the keyword which helps in writing code involving conditions\n",
        "if :\n",
        "elif:\n",
        "else:"
      ]
    },
    {
      "cell_type": "code",
      "source": [
        "#02.Write the syntax of a simple if statement.\n",
        "if (condition):\n",
        "  statement 1\n",
        "  statement 2\n"
      ],
      "metadata": {
        "id": "hi67UU5ga-AT"
      },
      "execution_count": null,
      "outputs": []
    },
    {
      "cell_type": "code",
      "source": [
        "#03.Write a program to check whether a person is eligible for voting or not. (accept age fromuser)\n",
        "age = int(input(\"Enter the age of the person\"))\n",
        "if (age >= 18 ):\n",
        "  print(\" Eligible for voting \")\n",
        "else:\n",
        "  print(\" Not Eligible for voting \")\n"
      ],
      "metadata": {
        "colab": {
          "base_uri": "https://localhost:8080/"
        },
        "id": "mhE1nrJKbU0D",
        "outputId": "2e8a6b1c-0402-4657-9788-d6603c1155fe"
      },
      "execution_count": null,
      "outputs": [
        {
          "output_type": "stream",
          "name": "stdout",
          "text": [
            "Enter the age of the person19\n",
            " Eligible for voting \n"
          ]
        }
      ]
    },
    {
      "cell_type": "code",
      "source": [
        "'''04.What is the output of the given below program?\n",
        "if 1 + 3 == 7:\n",
        "print(\"Hello\")\n",
        "else:\n",
        "print(\"Know Program\")'''\n",
        "output : Know program "
      ],
      "metadata": {
        "id": "p2tPoiL2cpAt"
      },
      "execution_count": null,
      "outputs": []
    },
    {
      "cell_type": "code",
      "source": [
        "# 05.Write a program to check whether a number entered by user is even or odd\n",
        "Number = int(input(\"Enter any number : \"))\n",
        "if Number %2 == 0 :\n",
        "  print(\"Even number\")\n",
        "else:\n",
        "  print(\"Odd number\")"
      ],
      "metadata": {
        "colab": {
          "base_uri": "https://localhost:8080/"
        },
        "id": "PCYbriKCc5hf",
        "outputId": "ba8db816-8229-4ef6-ec2b-45be2fdba577"
      },
      "execution_count": null,
      "outputs": [
        {
          "output_type": "stream",
          "name": "stdout",
          "text": [
            "Enter any number : 6\n",
            "Even number\n"
          ]
        }
      ]
    },
    {
      "cell_type": "code",
      "source": [
        "'''06.Python program to find the largest element among three Numbers ?\n",
        "num1 = 10\n",
        "num2 = 50\n",
        "num3 = 15'''\n",
        "\n",
        "num1 = 10\n",
        "num2 = 50\n",
        "num3 = 15\n",
        "if (num1 > num2 and num1 > num3):\n",
        "  print(\"num1 is largest\")\n",
        "elif (num2 > num1 and num2 > num3):\n",
        "  print(\"num2 is largest\")\n",
        "else:\n",
        "  print(\"num3 is largest\")"
      ],
      "metadata": {
        "colab": {
          "base_uri": "https://localhost:8080/"
        },
        "id": "zoZKASrcdq4z",
        "outputId": "8f6c7313-b467-4403-901f-85e9148231a0"
      },
      "execution_count": null,
      "outputs": [
        {
          "output_type": "stream",
          "name": "stdout",
          "text": [
            "num2 is largest\n"
          ]
        }
      ]
    },
    {
      "cell_type": "code",
      "source": [
        "'''07. Write a program to accept a number from 1 to 12 and display name of the month and days\n",
        "in that month like 1 for January and number of days 31 and so on'''\n",
        "\n",
        "N = int(input(\"Enter month number\"))\n",
        "if( N == 1):\n",
        "  print(\"january , 31 days\")\n",
        "elif( N == 2):\n",
        "  print(\"february , 28 days\")\n",
        "elif(N == 3):\n",
        "  print(\"march , 31 days\")\n",
        "elif(N == 4):\n",
        "  print(\"april , 30 days\")\n",
        "elif(N == 5):\n",
        "  print(\"may , 31 days\")\n",
        "elif(N == 6):\n",
        "  print(\"june , 30 days\")\n",
        "elif(N == 7):\n",
        "  print(\"july , 31 days\")\n",
        "elif(N == 8):\n",
        "  print(\"august , 31 days\")\n",
        "elif(N == 9):\n",
        "  print(\"september , 30 days\")\n",
        "elif(N == 10):\n",
        "  print(\"october , 31 days\")\n",
        "elif(N == 11):\n",
        "  print(\"november , 30 days\")\n",
        "elif(N == 12):\n",
        "  print(\"december , 31 days\")\n",
        "else:\n",
        "  print(\"Invalid number\")"
      ],
      "metadata": {
        "id": "K1z77RpGenzw",
        "colab": {
          "base_uri": "https://localhost:8080/"
        },
        "outputId": "332317d4-4d07-49ff-90c6-9acdc5d46159"
      },
      "execution_count": null,
      "outputs": [
        {
          "output_type": "stream",
          "name": "stdout",
          "text": [
            "Enter month number12\n",
            "december , 31 days\n"
          ]
        }
      ]
    }
  ]
}